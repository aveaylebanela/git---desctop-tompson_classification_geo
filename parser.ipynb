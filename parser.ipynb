{
 "cells": [
  {
   "cell_type": "code",
   "execution_count": 38,
   "metadata": {},
   "outputs": [],
   "source": [
    "import urllib.request\n",
    "from bs4 import BeautifulSoup\n",
    "import re\n",
    "import json\n",
    "import time\n",
    "from socket import timeout"
   ]
  },
  {
   "cell_type": "code",
   "execution_count": 39,
   "metadata": {},
   "outputs": [],
   "source": [
    "def generate_classification_links():\n",
    "    sourcelink = 'http://www.mftd.org/index.php?action=atu&act=select&atu='\n",
    "    file = open('generate_classification_links.txt', 'w', encoding = 'utf-8')\n",
    "    links = []\n",
    "    for i in range (1, 2400):\n",
    "        links.append(sourcelink + str(i) + '\\n')\n",
    "    js = json.dumps(links, ensure_ascii = False)\n",
    "    file.write(js)"
   ]
  },
  {
   "cell_type": "code",
   "execution_count": 3,
   "metadata": {},
   "outputs": [],
   "source": [
    "generate_classification_links()"
   ]
  },
  {
   "cell_type": "code",
   "execution_count": 41,
   "metadata": {},
   "outputs": [],
   "source": [
    "def open_link(link):\n",
    "    try:\n",
    "        a = urllib.request.urlopen(link)\n",
    "        file = a.read()\n",
    "    except timeout:\n",
    "        file = None\n",
    "    return file"
   ]
  },
  {
   "cell_type": "code",
   "execution_count": 5,
   "metadata": {},
   "outputs": [],
   "source": [
    "def database_with_ids():\n",
    "    time.sleep(20)\n",
    "    file_r = open('generate_classification_links.txt', 'r', encoding = 'utf-8')\n",
    "    file_r = json.loads(file_r.read())\n",
    "    file_w = open('database_with_ids.txt', 'w', encoding = 'utf-8')\n",
    "    dat = {}\n",
    "    COUNT = 0\n",
    "    for line in (file_r):\n",
    "        everything = []\n",
    "        soup = boil_some_soup(line)\n",
    "        try:\n",
    "            number, name = number_name(soup)\n",
    "            hier = get_hier(soup)\n",
    "            ids = get_ex_ids(soup)\n",
    "            everything.append(name)\n",
    "            everything.append(hier)\n",
    "            everything.append(ids)\n",
    "            dat[number] = everything\n",
    "        except ValueError:\n",
    "            print(soup.h2.text)    \n",
    "        except AttributeError:\n",
    "            print(str(COUNT) + ' missin ' + line)\n",
    "            COUNT +=1\n",
    "    js = json.dumps(dat, ensure_ascii = False)\n",
    "    file_w.write(js)"
   ]
  },
  {
   "cell_type": "code",
   "execution_count": 1,
   "metadata": {
    "scrolled": false
   },
   "outputs": [],
   "source": [
    "#database_with_ids()"
   ]
  },
  {
   "cell_type": "code",
   "execution_count": 6,
   "metadata": {},
   "outputs": [],
   "source": [
    "def boil_some_soup(link):\n",
    "    soup = ''\n",
    "    try:\n",
    "        some_text = open_link(link)\n",
    "        soup = BeautifulSoup(some_text)\n",
    "    except UnicodeEncodeError:\n",
    "        print(link)\n",
    "    except timeout:\n",
    "        print(link)\n",
    "    return soup"
   ]
  },
  {
   "cell_type": "code",
   "execution_count": 7,
   "metadata": {},
   "outputs": [],
   "source": [
    "def number_name(soup):\n",
    "    name = soup.h2.text\n",
    "    number, name = re.split(': ', name)\n",
    "    return (number, name)"
   ]
  },
  {
   "cell_type": "code",
   "execution_count": 8,
   "metadata": {
    "scrolled": true
   },
   "outputs": [],
   "source": [
    "def get_hier(soup):\n",
    "    something = soup.find_all('div')\n",
    "    something = something[1]\n",
    "    ps = something.find_all('p')\n",
    "    hier = []\n",
    "    for p in range(3):\n",
    "        p = re.match(r'<p>(.*)<a href=\"index\\.php\\?action=atu&amp;act=range&amp;id=(.*)', str(ps[p]))\n",
    "        try:\n",
    "            p = p.group()\n",
    "            p = re.sub(r'<p>(.*)<a href=\"index\\.php\\?action=atu&amp;act=range&amp;id=(.*)\">(.*)<\\/a> ', '', p)\n",
    "            p = re.sub(r'</p>', '', p)\n",
    "            hier.append(p)\n",
    "        except AttributeError:\n",
    "            break\n",
    "    return hier"
   ]
  },
  {
   "cell_type": "code",
   "execution_count": 9,
   "metadata": {},
   "outputs": [],
   "source": [
    "def get_ex_ids(soup):\n",
    "    table_examples = soup.table\n",
    "    ids = re.findall(r'<a href=\"index\\.php\\?action=story&amp;act=select&amp;id=(.*)\">', str(table_examples))\n",
    "    return ids"
   ]
  },
  {
   "cell_type": "markdown",
   "metadata": {},
   "source": [
    "в database_with_ids.txt структура такая:  \n",
    "{номер мотива: [название мотива,[1, 2, 3], [id примеров]]}  \n",
    "хранится в джесоне  \n",
    "айтемов получилось чуть меньше тысячи  \n",
    "\n",
    "\n",
    "потерялись:  \n",
    "613  \n",
    "925  \n",
    "969  \n",
    "1070  \n",
    "1153  \n",
    "1183  \n",
    "1453  \n",
    "1577  \n",
    "1624  \n",
    "1738  \n",
    "1812  \n",
    "1836A  \n",
    "\n",
    "если решим их не терять с ними надо все тоже самое сделать –– только как-то по-другому парсить number_name(), потому что моя функция сплитит номер и имя по двоеточию, а у них оно встречается в имени  "
   ]
  },
  {
   "cell_type": "markdown",
   "metadata": {},
   "source": [
    "?как хранить сказки:\n",
    "{номер мотива: [название мотива,[1, 2, 3], [[пример,шапка],[пример,шапка],...]}"
   ]
  },
  {
   "cell_type": "code",
   "execution_count": 10,
   "metadata": {},
   "outputs": [],
   "source": [
    "def read_json(name):\n",
    "    file_r = open(name, 'r', encoding = 'utf-8')\n",
    "    file_r = json.loads(file_r.read())\n",
    "    return (file_r)"
   ]
  },
  {
   "cell_type": "code",
   "execution_count": 34,
   "metadata": {},
   "outputs": [],
   "source": [
    "def get_tales():\n",
    "    ids = read_json('database_with_ids.txt')\n",
    "    all_the_things = []\n",
    "    counter = -1\n",
    "    for this1 in ids:\n",
    "        some_things = []\n",
    "        counter += 1\n",
    "        this = ids[this1]\n",
    "        this = this[2]\n",
    "        for that in this:\n",
    "            base = 'http://www.mftd.org/index.php?action=story&act=select&id='\n",
    "            time.sleep(2)\n",
    "            soup = boil_some_soup(base + str(that))\n",
    "            if soup == None:\n",
    "                break\n",
    "            else:\n",
    "                try:\n",
    "                    name = get_tale_name(soup)\n",
    "                    some_things.append(that)\n",
    "                    some_things.append(name)\n",
    "                    try:    \n",
    "                        tables = get_table(soup)\n",
    "                        some_things.append(tables)\n",
    "                    except AttributeError:\n",
    "                        print (soup.prettify)\n",
    "                    all_the_things.append(some_things)\n",
    "                except AttributeError:\n",
    "                    print(soup)\n",
    "    try:\n",
    "        file_w = open('database_with_tables.txt', 'w', encoding = 'utf-8')\n",
    "        js = json.dumps(all_the_things, ensure_ascii = False)\n",
    "        file_w.write(js)\n",
    "    except TypeError:\n",
    "        print (all)"
   ]
  },
  {
   "cell_type": "code",
   "execution_count": 36,
   "metadata": {},
   "outputs": [],
   "source": [
    "def get_tale_name(soup):\n",
    "    something = soup.find_all('h1')\n",
    "    name = something[3].text\n",
    "    return name"
   ]
  },
  {
   "cell_type": "code",
   "execution_count": 13,
   "metadata": {},
   "outputs": [],
   "source": [
    "def get_table(soup):\n",
    "    something = soup.find_all('div')\n",
    "    something = something[1]\n",
    "    tables = something.find_all('div', class_='infobox')\n",
    "    return str(tables)"
   ]
  },
  {
   "cell_type": "code",
   "execution_count": 42,
   "metadata": {
    "scrolled": true
   },
   "outputs": [
    {
     "name": "stdout",
     "output_type": "stream",
     "text": [
      "http://www.mftd.org/index.php?action=story&act=select&id=3181\">Rødrev og Askeladden</a></td><td></td></tr><tr><td style=\"padding-right: 10px;\n",
      "\n",
      "http://www.mftd.org/index.php?action=story&act=select&id=3873\">A Bicha de Sete  Cabeças</a></td><td></td></tr><tr><td style=\"padding-right: 10px;\n",
      "\n",
      "http://www.mftd.org/index.php?action=story&act=select&id=3476\">Țugulea, fiul unchiașului și al mătușei</a></td><td></td></tr><tr><td style=\"padding-right: 10px;\n",
      "\n",
      "http://www.mftd.org/index.php?action=story&act=select&id=3177\">Gutten som gjorde seg til løve, falk og maur</a></td><td></td></tr><tr><td style=\"padding-right: 10px;\n",
      "\n",
      "http://www.mftd.org/index.php?action=story&act=select&id=3891\">Pohádka o perníkové chaloupce</a></td><td></td></tr><tr><td style=\"padding-right: 10px;\n",
      "\n",
      "http://www.mftd.org/index.php?action=story&act=select&id=3784\">El zurrón que cantaba</a></td><td></td></tr><tr><td style=\"padding-right: 10px;\n",
      "\n",
      "http://www.mftd.org/index.php?action=story&act=select&id=6016\">Lu Re d'Anìmmulu</a></td><td></td></tr><tr><td style=\"padding-right: 10px;\n",
      "\n",
      "http://www.mftd.org/index.php?action=story&act=select&id=3856\">O Príncipe Sapo</a></td><td></td></tr><tr><td style=\"padding-right: 10px;\n",
      "\n",
      "http://www.mftd.org/index.php?action=story&act=select&id=106\">Brüderchen und Schwesterchen</a></td><td></td></tr><tr><td style=\"padding-right: 10px;\n",
      "\n",
      "http://www.mftd.org/index.php?action=story&act=select&id=1345\">Das Lämmchen und Fischchen</a></td><td></td></tr><tr><td style=\"padding-right: 10px;\n",
      "\n",
      "http://www.mftd.org/index.php?action=story&act=select&id=2996\">Чернушка</a></td><td></td></tr><tr><td style=\"padding-right: 10px;\n",
      "\n",
      "http://www.mftd.org/index.php?action=story&act=select&id=6026\">Gràttula-beddàttula</a></td><td></td></tr><tr><td style=\"padding-right: 10px;\n",
      "\n",
      "http://www.mftd.org/index.php?action=story&act=select&id=2856\">Кощей Бессмертный</a></td><td></td></tr><tr><td style=\"padding-right: 10px;\n",
      "\n",
      "http://www.mftd.org/index.php?action=story&act=select&id=3919\">Lo castell de irás y no hi veurás</a></td><td></td></tr><tr><td style=\"padding-right: 10px;\n",
      "\n",
      "http://www.mftd.org/index.php?action=story&act=select&id=1452\">Das Hirtenbüblein</a></td><td></td></tr><tr><td style=\"padding-right: 10px;\n",
      "\n"
     ]
    }
   ],
   "source": [
    "get_tales()"
   ]
  },
  {
   "cell_type": "markdown",
   "metadata": {},
   "source": [
    "^ ссылки это то, что мы потеряли из-за кодировки"
   ]
  },
  {
   "cell_type": "markdown",
   "metadata": {},
   "source": [
    "ЧТО ТЕПЕРЬ?  \n",
    "- джесон открывается функцией read_json(name)  \n",
    "    в нем лежит список [[имя_сказки][id_сказки][таблица_с_метаданными_таблица_с_переводами]]  \n",
    "    id сказки – это то что мы добавляем к базовой ссылке чтобы попасть на старницу с инфой про сказку  \n",
    "- таблицы хранятся стрингами, поэтому их надо снова конвертировать в суп (ну или парсить регулярками)  "
   ]
  }
 ],
 "metadata": {
  "kernelspec": {
   "display_name": "Python 3",
   "language": "python",
   "name": "python3"
  },
  "language_info": {
   "codemirror_mode": {
    "name": "ipython",
    "version": 3
   },
   "file_extension": ".py",
   "mimetype": "text/x-python",
   "name": "python",
   "nbconvert_exporter": "python",
   "pygments_lexer": "ipython3",
   "version": "3.7.0"
  }
 },
 "nbformat": 4,
 "nbformat_minor": 2
}
